{
 "cells": [
  {
   "cell_type": "code",
   "execution_count": 2,
   "metadata": {
    "collapsed": true
   },
   "outputs": [],
   "source": [
    "import numpy as np\n",
    "from skimage import io\n",
    "from matplotlib import pyplot as plt\n",
    "from scipy import ndimage\n",
    "from scipy import misc\n",
    "\n",
    "%matplotlib inline"
   ]
  },
  {
   "cell_type": "code",
   "execution_count": null,
   "metadata": {
    "collapsed": true
   },
   "outputs": [],
   "source": [
    "def rgb_to_gray(img):\n",
    "#     im = np.zeros((img.shape[0], img.shape[1]))\n",
    "    im = 0.299* img[:,:,0] + 0.587*img[:,:,1] + 0.114*img[:,:,2]\n",
    "    return im"
   ]
  },
  {
   "cell_type": "code",
   "execution_count": 3,
   "metadata": {},
   "outputs": [
    {
     "data": {
      "text/plain": [
       "<matplotlib.image.AxesImage at 0x1105edb70>"
      ]
     },
     "execution_count": 3,
     "metadata": {},
     "output_type": "execute_result"
    },
    {
     "data": {
      "image/png": "[encoded data removed]",
      "text/plain": [
       "<matplotlib.figure.Figure at 0x1104b9e80>"
      ]
     },
     "metadata": {},
     "output_type": "display_data"
    }
   ],
   "source": [
    "img = io.imread('img.png')\n",
    "# img = misc.imresize(img, (32, 32))\n",
    "i1 = np.asarray(img[:,:,0], dtype='float')\n",
    "plt.imshow(img)\n",
    "extract_hog(img)"
   ]
  },
  {
   "cell_type": "code",
   "execution_count": null,
   "metadata": {
    "collapsed": true
   },
   "outputs": [],
   "source": [
    "image = img\n",
    "if image.ndim > 2:\n",
    "        i1y, i1x = [np.ascontiguousarray(g, dtype=np.double)\n",
    "              for g in np.gradient(image[:,:,0])]\n",
    "        i2y, i2x = [np.ascontiguousarray(g, dtype=np.double)\n",
    "              for g in np.gradient(image[:,:,1])]\n",
    "        i3y, i3x = [np.ascontiguousarray(g, dtype=np.double)\n",
    "              for g in np.gradient(image[:,:,2])]\n",
    "        print(np.sum(i1y**2 + i1x**2), np.sum(i2y**2 + i2x**2), np.sum(i3y**2 + i3x**2))\n",
    "        G = max(np.sum(i1y**2 + i1x**2), np.sum(i2y**2 + i2x**2), np.sum(i3y**2 + i3x**2))"
   ]
  },
  {
   "cell_type": "code",
   "execution_count": 14,
   "metadata": {},
   "outputs": [
    {
     "name": "stdout",
     "output_type": "stream",
     "text": [
      "bef [[ 111.80140949   63.43494882   23.19859051 ...,  154.02560604\n",
      "   127.87498365   94.39870535]\n",
      " [ 101.30993247   66.80140949   43.69804733 ...,  175.36453657  105.9453959\n",
      "    75.06858282]\n",
      " [ -62.35402464    7.12501635   29.67848993 ..., -145.0079798   -62.52556837\n",
      "   -41.42366563]\n",
      " ..., \n",
      " [ -94.76364169 -119.19748605 -128.48019825 ...,   64.98310652\n",
      "    66.99112992   70.01689348]\n",
      " [ -82.96205924 -101.82148834 -122.97772331 ...,    3.9909131   -74.0546041\n",
      "  -100.0079798 ]\n",
      " [ -29.40718906 -129.80557109 -173.90413846 ...,  -35.21759297\n",
      "  -113.19859051 -102.52880771]]\n",
      "aft [[ 111.80140949   63.43494882   23.19859051 ...,  154.02560604\n",
      "   127.87498365   94.39870535]\n",
      " [ 101.30993247   66.80140949   43.69804733 ...,  175.36453657  105.9453959\n",
      "    75.06858282]\n",
      " [ 117.64597536    7.12501635   29.67848993 ...,   34.9920202   117.47443163\n",
      "   138.57633437]\n",
      " ..., \n",
      " [  85.23635831   60.80251395   51.51980175 ...,   64.98310652\n",
      "    66.99112992   70.01689348]\n",
      " [  97.03794076   78.17851166   57.02227669 ...,    3.9909131   105.9453959\n",
      "    79.9920202 ]\n",
      " [ 150.59281094   50.19442891    6.09586154 ...,  144.78240703\n",
      "    66.80140949   77.47119229]]\n"
     ]
    }
   ],
   "source": [
    "image = io.imread('img.png')\n",
    "image = misc.imresize(image, (32, 32))\n",
    "d = extract_hog(image)"
   ]
  },
  {
   "cell_type": "code",
   "execution_count": null,
   "metadata": {
    "collapsed": true
   },
   "outputs": [],
   "source": [
    "35 // 20\n"
   ]
  },
  {
   "cell_type": "code",
   "execution_count": 20,
   "metadata": {
    "collapsed": true
   },
   "outputs": [],
   "source": [
    "def extract_hog(image):\n",
    "    image = misc.imresize(image, (32, 32)).astype('float')\n",
    "    if image.ndim > 2:\n",
    "        i1y, i1x = [np.ascontiguousarray(g, dtype=np.double)\n",
    "              for g in np.gradient(image[:,:,0])]\n",
    "        i2y, i2x = [np.ascontiguousarray(g, dtype=np.double)\n",
    "              for g in np.gradient(image[:,:,1])]\n",
    "        i3y, i3x = [np.ascontiguousarray(g, dtype=np.double)\n",
    "              for g in np.gradient(image[:,:,2])]\n",
    "        num = np.argmax([np.sum(i1y**2 + i1x**2), np.sum(i2y**2 + i2x**2), np.sum(i3y**2 + i3x**2)])\n",
    "        image = image[:,:, num]\n",
    "#     ix = ndimage.filters.convolve(image, np.array([[-1, 0, 1]]))\n",
    "#     iy = ndimage.filters.convolve(image, np.transpose([[-1, 0, 1]]))\n",
    "    ix = ndimage.sobel(image, axis = 1)\n",
    "    iy = ndimage.sobel(image, axis = 0)\n",
    "#     iy, ix = [np.ascontiguousarray(g, dtype=np.double)\n",
    "#               for g in np.gradient(image)]\n",
    "    G = (ix**2 + iy**2)**0.5\n",
    "    theta = (np.rad2deg(np.arctan2(iy, ix))) % 180\n",
    "    n_bins = 9\n",
    "    r_bins = 180 / n_bins\n",
    "    H = np.zeros((4, 4, n_bins))\n",
    "    for i in range(4):\n",
    "        for j in range(4):\n",
    "            magn = G[8*i : (8*i + 8), 8*j : (8*j + 8)]\n",
    "            orient = theta[8*i : (8*i + 8), 8*j : (8*j + 8)]\n",
    "    #         print(orient.shape)\n",
    "            hist = np.zeros(n_bins)\n",
    "            for y in range(orient.shape[0]):\n",
    "                for x in range(orient.shape[1]):\n",
    "#                     k = int(orient[y, x] // r_bins)\n",
    "                    d, m = divmod(orient[y, x], r_bins)\n",
    "                    if m == 0.0:\n",
    "                        k = int(d-1)\n",
    "                    else:\n",
    "                        k = int(d)\n",
    "                    hist[k] += magn[y, x]\n",
    "#                     fract = (orient[y, x] - k*r_bins) / r_bins\n",
    "#                         hist[1] += (1 - fract) * magn[y, x]\n",
    "#                     else:\n",
    "#                         hist[k] += fract * magn[y, x]\n",
    "#                         if k == (n_bins - 1):\n",
    "#                             hist[0] += (1 - fract) * magn[y, x]\n",
    "#                         else:\n",
    "#                             hist[k+1] += (1 - fract) * magn[y, x]\n",
    "    #         print(cell)\n",
    "    #         print(orient)\n",
    "    #         print(hist)\n",
    "            H[i, j, :] = hist/ 16.\n",
    "    n_block = 2\n",
    "    eps = 0.00001\n",
    "    V = np.array([])\n",
    "    for i in range(0, 3, 1):\n",
    "        for j in range(0, 3, 1):\n",
    "    #         print(H[i, j, :].shape, H[i, j + 1, :].shape, H [i + 1, j, :].shape, H[i + 1, j + 1, :].shape)\n",
    "            vec = np.concatenate((H[i, j, :], H[i, j + 1, :], H [i + 1, j, :], H[i + 1, j + 1, :]), axis=0)\n",
    "            vec = vec / ((np.sum(vec**2) + eps)**0.5)\n",
    "            V = np.append(V, vec)\n",
    "#     print(V)\n",
    "    return V"
   ]
  },
  {
   "cell_type": "code",
   "execution_count": null,
   "metadata": {
    "collapsed": true
   },
   "outputs": [],
   "source": [
    "ix = ndimage.sobel(i1, axis = 1)\n",
    "iy = ndimage.sobel(i1, axis = 0)\n",
    "plt.imshow(iy, cmap='gray')"
   ]
  },
  {
   "cell_type": "code",
   "execution_count": null,
   "metadata": {
    "collapsed": true
   },
   "outputs": [],
   "source": [
    "ix = ndimage.filters.convolve(i1, np.array([[-1, 0, 1]]))\n",
    "plt.imshow(ix, cmap='gray')\n",
    "print(np.array([[-1, 0, 1]]).shape)"
   ]
  },
  {
   "cell_type": "code",
   "execution_count": null,
   "metadata": {
    "collapsed": true
   },
   "outputs": [],
   "source": [
    "iy = ndimage.filters.convolve(i1, np.transpose([[-1, 0, 1]]))\n",
    "plt.imshow(iy, cmap='gray')\n",
    "print(iy.shape)"
   ]
  },
  {
   "cell_type": "code",
   "execution_count": null,
   "metadata": {
    "collapsed": true
   },
   "outputs": [],
   "source": [
    "iy, ix = [np.ascontiguousarray(g, dtype=np.double)\n",
    "              for g in np.gradient(i1)]"
   ]
  },
  {
   "cell_type": "code",
   "execution_count": null,
   "metadata": {
    "collapsed": true
   },
   "outputs": [],
   "source": [
    "G = (ix**2 + iy**2)**0.5\n",
    "theta = abs(np.arctan2(iy, ix))\n",
    "t = theta*180/np.pi\n",
    "plt.imshow(np.asarray(G, dtype='int'), cmap='gray')"
   ]
  },
  {
   "cell_type": "code",
   "execution_count": 4,
   "metadata": {
    "collapsed": true
   },
   "outputs": [],
   "source": [
    "def extract_hog(image):\n",
    "    image = misc.imresize(image, (32, 32)).astype('float')\n",
    "    if image.ndim > 2:\n",
    "        i1y, i1x = [np.ascontiguousarray(g, dtype=np.double)\n",
    "              for g in np.gradient(image[:,:,0])]\n",
    "        i2y, i2x = [np.ascontiguousarray(g, dtype=np.double)\n",
    "              for g in np.gradient(image[:,:,1])]\n",
    "        i3y, i3x = [np.ascontiguousarray(g, dtype=np.double)\n",
    "              for g in np.gradient(image[:,:,2])]\n",
    "        num = np.argmax([np.sum(i1y**2 + i1x**2), np.sum(i2y**2 + i2x**2), np.sum(i3y**2 + i3x**2)])\n",
    "        image = image[:,:, num]\n",
    "#     ix = ndimage.filters.convolve(image, np.array([[-1, 0, 1]]))\n",
    "#     iy = ndimage.filters.convolve(image, np.transpose([[-1, 0, 1]]))\n",
    "    ix = ndimage.sobel(image, axis = 1)\n",
    "    iy = ndimage.sobel(image, axis = 0)\n",
    "#     iy, ix = [np.ascontiguousarray(g, dtype=np.double)\n",
    "#               for g in np.gradient(image)]\n",
    "    G = (ix**2 + iy**2)**0.5\n",
    "    theta = (np.rad2deg(np.arctan2(iy, ix))) % 180\n",
    "    n_bins = 9\n",
    "    r_bins = np.pi / n_bins\n",
    "    H = np.zeros((4, 4, n_bins))\n",
    "    for i in range(4):\n",
    "        for j in range(4):\n",
    "            magn = G[8*i : (8*i + 8), 8*j : (8*j + 8)]\n",
    "            orient = theta[8*i : (8*i + 8), 8*j : (8*j + 8)]\n",
    "    #         print(orient.shape)\n",
    "            hist = np.zeros(n_bins)\n",
    "            for y in range(orient.shape[0]):\n",
    "                for x in range(orient.shape[1]):\n",
    "                    k = int(orient[y, x] // r_bins)\n",
    "                    fract = (orient[y, x] - k*r_bins) / r_bins\n",
    "                    if k == n_bins:\n",
    "                        hist[0] += fract * magn[y, x]\n",
    "                        hist[1] += (1 - fract) * magn[y, x]\n",
    "                    else:\n",
    "                        hist[k] += fract * magn[y, x]\n",
    "                        if k == (n_bins - 1):\n",
    "                            hist[0] += (1 - fract) * magn[y, x]\n",
    "                        else:\n",
    "                            hist[k+1] += (1 - fract) * magn[y, x]\n",
    "    #         print(cell)\n",
    "    #         print(orient)\n",
    "    #         print(hist)\n",
    "            H[i, j, :] = hist\n",
    "    n_block = 2\n",
    "    eps = 0.00001\n",
    "    V = np.array([])\n",
    "    for i in range(0, 3, 1):\n",
    "        for j in range(0, 3, 1):\n",
    "    #         print(H[i, j, :].shape, H[i, j + 1, :].shape, H [i + 1, j, :].shape, H[i + 1, j + 1, :].shape)\n",
    "            vec = np.concatenate((H[i, j, :], H[i, j + 1, :], H [i + 1, j, :], H[i + 1, j + 1, :]), axis=0)\n",
    "            vec = vec / ((np.sum(vec**2) + eps)**0.5)\n",
    "            V = np.append(V, vec)\n",
    "    return V"
   ]
  },
  {
   "cell_type": "code",
   "execution_count": 24,
   "metadata": {
    "collapsed": true
   },
   "outputs": [],
   "source": [
    "from sklearn import svm\n",
    "from sklearn.model_selection import cross_val_score\n",
    "def fit_and_classify(train_features, train_labels, test_features):\n",
    "    clf = svm.LinearSVC()\n",
    "#     clf.fit(train_features, train_labels)  \n",
    "#     SVC(C=1.0, cache_size=200, class_weight=None, coef0=0.0,\n",
    "#     decision_function_shape='ovr', degree=3, gamma='auto', kernel='rbf',\n",
    "#     max_iter=-1, probability=False, random_state=None, shrinking=True,\n",
    "#     tol=0.001, verbose=False)\n",
    "    scores = cross_val_score(clf, train_features, train_labels, cv=5)\n",
    "#     #\tX_train, X_test, y_train, y_test = cross_validation.train_test_split( \\\n",
    "# #\t\ttrain_features, train_labels, test_size=0.2, random_state=0)\n",
    "\n",
    "\n",
    "# \tclf = svm.SVC(kernel='rbf', C=35, gamma=7).fit(train_features, train_labels)\n",
    "# #\tprint clf.score(X_test, y_test)\n",
    "#     return clf.predict(test_features)\n",
    "    return np.mean(scores)"
   ]
  },
  {
   "cell_type": "code",
   "execution_count": 25,
   "metadata": {
    "collapsed": true
   },
   "outputs": [],
   "source": [
    "from os import environ\n",
    "from os.path import join\n",
    "from sys import argv\n",
    "\n",
    "\n",
    "def check_test(output_dir, gt_dir):\n",
    "    with open(join(output_dir, 'output.csv')) as fout:\n",
    "        lines = fout.readlines()\n",
    "        output = {}\n",
    "        for line in lines:\n",
    "            filename, class_id = line.rstrip('\\n').split(',')\n",
    "            output[filename] = class_id\n",
    "\n",
    "    with open(join(gt_dir, 'gt.csv')) as fgt:\n",
    "        next(fgt)\n",
    "        lines = fgt.readlines()\n",
    "        gt = {}\n",
    "        for line in lines:\n",
    "            filename, class_id = line.rstrip('\\n').split(',')\n",
    "            gt[filename] = class_id\n",
    "\n",
    "    correct = 0\n",
    "    total = len(gt)\n",
    "    for k, v in gt.items():\n",
    "        if output[k] == v:\n",
    "            correct += 1\n",
    "\n",
    "    accuracy = correct / total\n",
    "\n",
    "    return 'Ok, accuracy %.4f' % accuracy\n",
    "\n",
    "\n",
    "def grade(results_list):\n",
    "    test_data_result = results_list[-1]\n",
    "\n",
    "    result = test_data_result['result']\n",
    "    if not result.startswith('Ok'):\n",
    "        return '', 0\n",
    "\n",
    "    accuracy_str = result[13:]\n",
    "    accuracy = float(accuracy_str)\n",
    "\n",
    "    if accuracy >= 0.93:\n",
    "        mark = 10\n",
    "    elif accuracy >= 0.90:\n",
    "        mark = 8\n",
    "    elif accuracy >= 0.85:\n",
    "        mark = 6\n",
    "    elif accuracy >= 0.80:\n",
    "        mark = 4\n",
    "    elif accuracy >= 0.75:\n",
    "        mark = 2\n",
    "    elif accuracy > 0:\n",
    "        mark = 1\n",
    "    else:\n",
    "        mark = 0\n",
    "\n",
    "    return accuracy_str, mark\n",
    "\n",
    "\n",
    "def run_single_test(data_dir, output_dir):\n",
    "#     from fit_and_classify import fit_and_classify, extract_hog\n",
    "    from glob import glob\n",
    "    from numpy import zeros\n",
    "    from os.path import basename, join\n",
    "    from skimage.io import imread\n",
    "\n",
    "    train_dir = join(data_dir, 'train')\n",
    "    test_dir = join(data_dir, 'test')\n",
    "\n",
    "    def read_gt(gt_dir):\n",
    "        fgt = open(join(gt_dir, 'gt.csv'))\n",
    "        next(fgt)\n",
    "        lines = fgt.readlines()\n",
    "\n",
    "        filenames = []\n",
    "        labels = zeros(len(lines))\n",
    "        for i, line in enumerate(lines):\n",
    "            filename, label = line.rstrip('\\n').split(',')\n",
    "            filenames.append(filename)\n",
    "            labels[i] = int(label)\n",
    "\n",
    "        return filenames, labels\n",
    "\n",
    "    def extract_features(path, filenames):\n",
    "        hog_length = len(extract_hog(imread(join(path, filenames[0]))))\n",
    "        data = zeros((len(filenames), hog_length))\n",
    "        for i in range(0, len(filenames)):\n",
    "            filename = join(path, filenames[i])\n",
    "            data[i, :] = extract_hog(imread(filename))\n",
    "        return data\n",
    "\n",
    "    train_filenames, train_labels = read_gt(train_dir)\n",
    "    test_filenames = []\n",
    "    for path in sorted(glob(join(test_dir, '*png'))):\n",
    "        test_filenames.append(basename(path))\n",
    "\n",
    "    train_features = extract_features(train_dir, train_filenames)\n",
    "    test_features = extract_features(test_dir, test_filenames)\n",
    "\n",
    "    y = fit_and_classify(train_features, train_labels, test_features)\n",
    "\n",
    "    with open(join(output_dir, 'output.csv'), 'w') as fout:\n",
    "        for i, filename in enumerate(test_filenames):\n",
    "            print('%s,%d' % (filename, y[i]), file=fout)\n",
    "\n",
    "\n",
    "# if __name__ == '__main__':\n",
    "#     if environ.get('CHECKER'):\n",
    "#         # Script is running in testing system, run on single input\n",
    "#         if len(argv) != 3:\n",
    "#             print('Usage: %s data_dir output_dir' % argv[0])\n",
    "#             exit(0)\n",
    "\n",
    "#         run_single_test(argv[1], argv[2])\n",
    "#     else:\n",
    "#         # Script is running locally, run on dir with tests\n",
    "#         if len(argv) != 2:\n",
    "#             print('Usage: %s tests_dir' % argv[0])\n",
    "#             exit(0)\n",
    "\n",
    "#         from glob import glob\n",
    "#         from re import sub\n",
    "#         from time import time\n",
    "#         from traceback import format_exc\n",
    "#         from os import makedirs\n",
    "\n",
    "#         tests_dir = argv[1]\n",
    "\n",
    "#         results = []\n",
    "#         for input_dir in sorted(glob(join(tests_dir, '[0-9][0-9]_input'))):\n",
    "#             output_dir = sub('input$', 'output', input_dir)\n",
    "#             makedirs(output_dir, exist_ok=True)\n",
    "#             gt_dir = sub('input$', 'gt', input_dir)\n",
    "\n",
    "#             try:\n",
    "#                 start = time()\n",
    "#                 run_single_test(input_dir, output_dir)\n",
    "#                 end = time()\n",
    "#                 running_time = end - start\n",
    "#             except:\n",
    "#                 result = 'Runtime error'\n",
    "#                 traceback = format_exc()\n",
    "#             else:\n",
    "#                 try:\n",
    "#                     result = check_test(output_dir, gt_dir)\n",
    "#                 except:\n",
    "#                     result = 'Checker error'\n",
    "#                     traceback = format_exc()\n",
    "\n",
    "#             test_num = input_dir[-8:-6]\n",
    "#             if result == 'Runtime error' or result == 'Checker error':\n",
    "#                 print(test_num, result, '\\n', traceback)\n",
    "#                 results.append({'result': result})\n",
    "#             else:\n",
    "#                 print(test_num, '%.2fs' % running_time, result)\n",
    "#                 results.append({\n",
    "#                     'time': running_time,\n",
    "#                     'result': result})\n",
    "\n",
    "#         description, mark = grade(results)\n",
    "#         print('Mark:', mark, description)"
   ]
  },
  {
   "cell_type": "code",
   "execution_count": 26,
   "metadata": {},
   "outputs": [
    {
     "ename": "IndexError",
     "evalue": "invalid index to scalar variable.",
     "output_type": "error",
     "traceback": [
      "\u001b[0;31m---------------------------------------------------------------------------\u001b[0m",
      "\u001b[0;31mIndexError\u001b[0m                                Traceback (most recent call last)",
      "\u001b[0;32m<ipython-input-26-e3fb2595b4fe>\u001b[0m in \u001b[0;36m<module>\u001b[0;34m()\u001b[0m\n\u001b[1;32m      7\u001b[0m \u001b[0;31m# os.mkdir(dirr)\u001b[0m\u001b[0;34m\u001b[0m\u001b[0;34m\u001b[0m\u001b[0m\n\u001b[1;32m      8\u001b[0m \u001b[0mstart\u001b[0m \u001b[0;34m=\u001b[0m \u001b[0mtime\u001b[0m\u001b[0;34m(\u001b[0m\u001b[0;34m)\u001b[0m\u001b[0;34m\u001b[0m\u001b[0m\n\u001b[0;32m----> 9\u001b[0;31m \u001b[0mrun_single_test\u001b[0m\u001b[0;34m(\u001b[0m\u001b[0minput_dir\u001b[0m\u001b[0;34m,\u001b[0m \u001b[0moutput_dir\u001b[0m\u001b[0;34m)\u001b[0m\u001b[0;34m\u001b[0m\u001b[0m\n\u001b[0m\u001b[1;32m     10\u001b[0m \u001b[0mend\u001b[0m \u001b[0;34m=\u001b[0m \u001b[0mtime\u001b[0m\u001b[0;34m(\u001b[0m\u001b[0;34m)\u001b[0m\u001b[0;34m\u001b[0m\u001b[0m\n\u001b[1;32m     11\u001b[0m \u001b[0mrunning_time\u001b[0m \u001b[0;34m=\u001b[0m \u001b[0mend\u001b[0m \u001b[0;34m-\u001b[0m \u001b[0mstart\u001b[0m\u001b[0;34m\u001b[0m\u001b[0m\n",
      "\u001b[0;32m<ipython-input-25-41c15f3c70e3>\u001b[0m in \u001b[0;36mrun_single_test\u001b[0;34m(data_dir, output_dir)\u001b[0m\n\u001b[1;32m    103\u001b[0m     \u001b[0;32mwith\u001b[0m \u001b[0mopen\u001b[0m\u001b[0;34m(\u001b[0m\u001b[0mjoin\u001b[0m\u001b[0;34m(\u001b[0m\u001b[0moutput_dir\u001b[0m\u001b[0;34m,\u001b[0m \u001b[0;34m'output.csv'\u001b[0m\u001b[0;34m)\u001b[0m\u001b[0;34m,\u001b[0m \u001b[0;34m'w'\u001b[0m\u001b[0;34m)\u001b[0m \u001b[0;32mas\u001b[0m \u001b[0mfout\u001b[0m\u001b[0;34m:\u001b[0m\u001b[0;34m\u001b[0m\u001b[0m\n\u001b[1;32m    104\u001b[0m         \u001b[0;32mfor\u001b[0m \u001b[0mi\u001b[0m\u001b[0;34m,\u001b[0m \u001b[0mfilename\u001b[0m \u001b[0;32min\u001b[0m \u001b[0menumerate\u001b[0m\u001b[0;34m(\u001b[0m\u001b[0mtest_filenames\u001b[0m\u001b[0;34m)\u001b[0m\u001b[0;34m:\u001b[0m\u001b[0;34m\u001b[0m\u001b[0m\n\u001b[0;32m--> 105\u001b[0;31m             \u001b[0mprint\u001b[0m\u001b[0;34m(\u001b[0m\u001b[0;34m'%s,%d'\u001b[0m \u001b[0;34m%\u001b[0m \u001b[0;34m(\u001b[0m\u001b[0mfilename\u001b[0m\u001b[0;34m,\u001b[0m \u001b[0my\u001b[0m\u001b[0;34m[\u001b[0m\u001b[0mi\u001b[0m\u001b[0;34m]\u001b[0m\u001b[0;34m)\u001b[0m\u001b[0;34m,\u001b[0m \u001b[0mfile\u001b[0m\u001b[0;34m=\u001b[0m\u001b[0mfout\u001b[0m\u001b[0;34m)\u001b[0m\u001b[0;34m\u001b[0m\u001b[0m\n\u001b[0m\u001b[1;32m    106\u001b[0m \u001b[0;34m\u001b[0m\u001b[0m\n\u001b[1;32m    107\u001b[0m \u001b[0;34m\u001b[0m\u001b[0m\n",
      "\u001b[0;31mIndexError\u001b[0m: invalid index to scalar variable."
     ]
    }
   ],
   "source": [
    "from time import time\n",
    "import os\n",
    "from os.path import join\n",
    "input_dir = ''.join(['/Users/anoshin_alexey/Desktop/ComputerVision/public_data/00_input/'])\n",
    "output_dir = ''.join(['/Users/anoshin_alexey/Desktop/ComputerVision/public_data/00_output/'])\n",
    "gt_dir = ''.join(['/Users/anoshin_alexey/Desktop/ComputerVision/public_data/00_gt/'])\n",
    "# os.mkdir(dirr) \n",
    "start = time()\n",
    "run_single_test(input_dir, output_dir)\n",
    "end = time()\n",
    "running_time = end - start\n",
    "# run_single_test(input_dir, dirr)\n",
    "print(running_time)\n",
    "print(check_test(output_dir, gt_dir))\n",
    "# run_single_test(data_dir, output_dir)"
   ]
  },
  {
   "cell_type": "code",
   "execution_count": null,
   "metadata": {
    "collapsed": true
   },
   "outputs": [],
   "source": []
  }
 ],
 "metadata": {
  "kernelspec": {
   "display_name": "Python 3",
   "language": "python",
   "name": "python3"
  },
  "language_info": {
   "codemirror_mode": {
    "name": "ipython",
    "version": 3
   },
   "file_extension": ".py",
   "mimetype": "text/x-python",
   "name": "python",
   "nbconvert_exporter": "python",
   "pygments_lexer": "ipython3",
   "version": "3.6.1"
  }
 },
 "nbformat": 4,
 "nbformat_minor": 2
}
